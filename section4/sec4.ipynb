{
 "cells": [
  {
   "cell_type": "code",
   "execution_count": 2,
   "metadata": {},
   "outputs": [
    {
     "name": "stdout",
     "output_type": "stream",
     "text": [
      "/Users/niwa/src/python_source_separation/section4\n",
      "t0\n",
      "t1\n",
      "t2\n",
      "t3\n",
      "t4\n",
      "t5\n",
      "t6\n",
      "t7\n",
      "t8\n",
      "t9\n",
      "t10\n",
      "t11\n",
      "t12\n",
      "t13\n",
      "t14\n",
      "t15\n",
      "t16\n",
      "t17\n",
      "t18\n",
      "t19\n",
      "t20\n",
      "t21\n",
      "t22\n",
      "t23\n",
      "t24\n",
      "t25\n",
      "t26\n",
      "t27\n",
      "t28\n",
      "t29\n",
      "t30\n",
      "t31\n",
      "t32\n",
      "t33\n",
      "t34\n",
      "t35\n",
      "t36\n",
      "t37\n",
      "t38\n",
      "t39\n",
      "t40\n",
      "t41\n",
      "t42\n",
      "t43\n",
      "t44\n",
      "t45\n",
      "t46\n",
      "t47\n",
      "t48\n",
      "t49\n",
      "t50\n",
      "t51\n",
      "t52\n",
      "t53\n",
      "t54\n",
      "t55\n",
      "t56\n",
      "t57\n",
      "t58\n",
      "t59\n",
      "t60\n",
      "t61\n",
      "t62\n",
      "t63\n",
      "t64\n",
      "t65\n",
      "t66\n",
      "t67\n",
      "t68\n",
      "t69\n",
      "t70\n",
      "t71\n",
      "t72\n",
      "t73\n",
      "t74\n",
      "t75\n",
      "t76\n",
      "t77\n",
      "t78\n",
      "t79\n",
      "t80\n",
      "t81\n",
      "t82\n",
      "t83\n",
      "t84\n",
      "t85\n",
      "t86\n",
      "t87\n",
      "t88\n",
      "t89\n",
      "t90\n",
      "t91\n",
      "t92\n",
      "t93\n",
      "t94\n",
      "t95\n",
      "t96\n",
      "t97\n",
      "t98\n",
      "t99\n",
      "t100\n"
     ]
    },
    {
     "data": {
      "image/png": "[encoded data removed]",
      "text/plain": [
       "<Figure size 720x288 with 1 Axes>"
      ]
     },
     "metadata": {
      "needs_background": "light"
     },
     "output_type": "display_data"
    },
    {
     "data": {
      "text/plain": [
       "<Figure size 720x288 with 0 Axes>"
      ]
     },
     "metadata": {},
     "output_type": "display_data"
    }
   ],
   "source": [
    "%cd ../section4\n",
    "%run 'sample_code_c4_1.py'"
   ]
  }
 ],
 "metadata": {
  "kernelspec": {
   "display_name": "Python 3",
   "language": "python",
   "name": "python3"
  },
  "language_info": {
   "codemirror_mode": {
    "name": "ipython",
    "version": 3
   },
   "file_extension": ".py",
   "mimetype": "text/x-python",
   "name": "python",
   "nbconvert_exporter": "python",
   "pygments_lexer": "ipython3",
   "version": "3.6.10"
  }
 },
 "nbformat": 4,
 "nbformat_minor": 4
}
